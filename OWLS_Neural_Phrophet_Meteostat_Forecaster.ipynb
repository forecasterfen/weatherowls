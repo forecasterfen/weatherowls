{
 "cells": [
  {
   "cell_type": "code",
   "execution_count": null,
   "id": "aeee3c9b-4d31-43c1-b717-872070b9e2a9",
   "metadata": {},
   "outputs": [],
   "source": [
    "#required packages\n",
    "\n",
    "from datetime import datetime\n",
    "from meteostat import Stations, Hourly\n",
    "import pandas as pd\n",
    "from prophet import Prophet\n",
    "import numpy as np"
   ]
  },
  {
   "cell_type": "code",
   "execution_count": null,
   "id": "dc2577cf-5a2d-44b8-b966-040037a210af",
   "metadata": {},
   "outputs": [],
   "source": [
    "##This entire cell focuses on finding the nearest weather station with given coordinates. The script then proceeds to make a csv file of data from \n",
    "##the stationat a given start and end time. Missing data in the chart is filled by normalizing per meteostat documentation\n",
    "\n",
    "stations = Stations()\n",
    "stations = stations.nearby(31.3573, -100.5028)\n",
    "station = stations.fetch(1)\n",
    "\n",
    "start = datetime(2018, 1, 1)\n",
    "end = datetime(2023, 3, 7, 23, 59)\n",
    "\n",
    "data = Hourly(station, start=start, end=end)\n",
    "data = data.normalize()\n",
    "data = data.interpolate()\n",
    "data = data.fetch()\n",
    "dataset=data\n",
    "data.to_csv('base_data')"
   ]
  },
  {
   "cell_type": "code",
   "execution_count": null,
   "id": "977662aa-df13-46ac-ae42-d482af1228ff",
   "metadata": {},
   "outputs": [],
   "source": [
    "##This Cell allows you to review the data, place it into a table, and get basic statistics\n",
    "\n",
    "dataset='base_data'\n",
    "table=pd.read_csv(dataset)\n",
    "print(table.head())\n",
    "print(table.info())\n",
    "print(table.describe(exclude=[object]))\n",
    "table.dtypes"
   ]
  },
  {
   "cell_type": "code",
   "execution_count": null,
   "id": "c71c0839-3f5e-427f-89b6-463bd00b50d1",
   "metadata": {},
   "outputs": [],
   "source": [
    "##This cell makes the data ready for Neural Phrophet learning and forecasting\n",
    "\n",
    "table['ds']=pd.DatetimeIndex(table['temp']) #Refer to Meteostat guide for variable abbreviations, generally, the colum titles are avaliable variables\n",
    "data=table[['time','temp']]\n",
    "data.columns=['ds','y']\n",
    "data.head\n",
    "data.head\n",
    "df=data"
   ]
  },
  {
   "cell_type": "code",
   "execution_count": null,
   "id": "14b6f972-6748-4c40-b7d7-82b56cbd370f",
   "metadata": {},
   "outputs": [],
   "source": [
    "##This cell is the machine learning part, frequency is 'H' as this model uses hourly data. epochs is the number of times the machine runs the model\n",
    "##The more epochs, the more accurate the model becomes, but it will be slower and there is will be a point where its unpractical to have a high epoch\n",
    "\n",
    "from neuralprophet import NeuralProphet\n",
    "m = NeuralProphet()\n",
    "metrics = m.fit(df, freq='H', epochs=25)\n",
    "forecast = m.predict(df)\n",
    "m.plot(forecast) #This cell shows you the machines general prediction results. If bluelines are not in a reasonable line, you may need more epochs"
   ]
  },
  {
   "cell_type": "code",
   "execution_count": null,
   "id": "3709bfa1-ef2b-4846-b8c0-890c71890cd1",
   "metadata": {},
   "outputs": [],
   "source": [
    "##This cell focuses on getting a forecast, yhat is what the machine predicts, but other useful data comes out like daily, weekly, and seasonal\n",
    "##daily differences. periods tells the machine how many hours to forecast for from the end of the dataset. The forecast is saved in csv.\n",
    "\n",
    "future=m.make_future_dataframe(data, periods=120)\n",
    "forecast=m.predict(future)\n",
    "forecast.head()\n",
    "forecast.to_csv('forecast_data')\n",
    "forecast"
   ]
  }
 ],
 "metadata": {
  "kernelspec": {
   "display_name": "Python 3 (ipykernel)",
   "language": "python",
   "name": "python3"
  },
  "language_info": {
   "codemirror_mode": {
    "name": "ipython",
    "version": 3
   },
   "file_extension": ".py",
   "mimetype": "text/x-python",
   "name": "python",
   "nbconvert_exporter": "python",
   "pygments_lexer": "ipython3",
   "version": "3.9.13"
  }
 },
 "nbformat": 4,
 "nbformat_minor": 5
}
