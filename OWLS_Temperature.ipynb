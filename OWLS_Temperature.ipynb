{
 "cells": [
  {
   "cell_type": "code",
   "execution_count": null,
   "id": "a2ec4468-49db-472f-bf75-e2ea2011a741",
   "metadata": {},
   "outputs": [],
   "source": [
    "#Required packages\n",
    "\n",
    "from meteostat import Point, Hourly\n",
    "from datetime import datetime\n",
    "import pandas as pd\n",
    "import numpy as np\n",
    "from neuralprophet import NeuralProphet\n",
    "\n",
    "#Optional if you want to apply graphics, etc...\n",
    "\n",
    "import seaborn as sns\n",
    "import matplotlib.pyplot as plt\n",
    "\n",
    "start = datetime(2018, 1, 1)\n",
    "end = datetime(2023, 4, 18)\n",
    "location = Point(35.9420, -95.8833) #Bixby, OK\n",
    "data = Hourly(location, start, end)\n",
    "data = data.normalize()\n",
    "data = data.interpolate()\n",
    "data = data.fetch()\n",
    "dataset=data\n",
    "data.to_csv('base_data')\n",
    "table=pd.read_csv('base_data')\n",
    "\n",
    "table['ds']=pd.DatetimeIndex(table['temp']) \n",
    "data1=table[['time','temp','dwpt', 'rhum', 'pres', 'prcp']]\n",
    "data1.columns=['ds','y','dwpt','rhum','pres', 'prcp']\n",
    "data1.head\n",
    "data1.head\n",
    "df_temp=data1\n",
    "df_temp=df_temp.fillna(0)\n",
    "\n",
    "\n",
    "m = NeuralProphet()\n",
    "m = m.add_future_regressor('dwpt')\n",
    "m = m.add_future_regressor('rhum')\n",
    "m = m.add_future_regressor('pres')\n",
    "m = m.add_future_regressor('prcp')\n",
    "\n",
    "metrics = m.fit(df_temp, freq='H')\n",
    "temp_forecast = m.predict(df_temp)\n",
    "\n",
    "\n",
    "now = datetime.now()\n",
    "future=(temp_forecast[\"ds\"] > now)\n",
    "temp_forecast['Future?'] = future\n",
    "future_forecast = temp_forecast[temp_forecast['Future?'] == True]"
   ]
  },
  {
   "cell_type": "code",
   "execution_count": null,
   "id": "20b81bcc-24ea-4b2a-8a7a-8b0517a0dfcd",
   "metadata": {},
   "outputs": [],
   "source": [
    "future_forecast.to_csv('future_forecast')"
   ]
  },
  {
   "cell_type": "code",
   "execution_count": null,
   "id": "3bc67558-d8a7-410e-8717-e9c81c5cc333",
   "metadata": {},
   "outputs": [],
   "source": [
    "heatmap=pd.read_csv('future_forecast', index_col=0) \n",
    "heatmap[\"InsertedDateTime\"]= pd.to_datetime(heatmap[\"ds\"])\n",
    "heatmap['DayOfMonth']=heatmap[\"InsertedDateTime\"].dt.day\n",
    "heatmap['Hour']=heatmap[\"InsertedDateTime\"].dt.hour\n",
    "heatmap"
   ]
  },
  {
   "cell_type": "code",
   "execution_count": null,
   "id": "08cda799-eabf-4565-8975-48ac47f972d7",
   "metadata": {},
   "outputs": [],
   "source": [
    "import matplotlib.pyplot as plt\n",
    "import seaborn as sns\n",
    "sns.set_theme()\n",
    "\n",
    "# Load the example flights dataset and convert to long-form\n",
    "\n",
    "outline = heatmap.pivot(\"Hour\", \"DayOfMonth\",'yhat1')\n",
    "\n",
    "# Draw a heatmap with the numeric values in each cell\n",
    "f, ax = plt.subplots(figsize=(12, 8))\n",
    "sns.heatmap(outline, annot=True, linewidths=.5, ax=ax, cmap=\"rainbow\").figure.savefig(\"bixby.png\")"
   ]
  },
  {
   "cell_type": "code",
   "execution_count": null,
   "id": "00508b73-ad46-4053-810e-74a95274b941",
   "metadata": {},
   "outputs": [],
   "source": [
    "now"
   ]
  }
 ],
 "metadata": {
  "kernelspec": {
   "display_name": "Python 3 (ipykernel)",
   "language": "python",
   "name": "python3"
  },
  "language_info": {
   "codemirror_mode": {
    "name": "ipython",
    "version": 3
   },
   "file_extension": ".py",
   "mimetype": "text/x-python",
   "name": "python",
   "nbconvert_exporter": "python",
   "pygments_lexer": "ipython3",
   "version": "3.9.13"
  }
 },
 "nbformat": 4,
 "nbformat_minor": 5
}
