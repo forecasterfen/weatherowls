{
 "cells": [
  {
   "cell_type": "code",
   "execution_count": 45,
   "id": "4cb4cf5c",
   "metadata": {},
   "outputs": [
    {
     "data": {
      "text/plain": [
       "'Copyright [2022] [Derrick Kemp]\\n\\n   Licensed under the Apache License, Version 2.0 (the \"License\");\\n   you may not use this file except in compliance with the License.\\n   You may obtain a copy of the License at\\n\\n       http://www.apache.org/licenses/LICENSE-2.0\\n\\n   Unless required by applicable law or agreed to in writing, software\\n   distributed under the License is distributed on an \"AS IS\" BASIS,\\n   WITHOUT WARRANTIES OR CONDITIONS OF ANY KIND, either express or implied.\\n   See the License for the specific language governing permissions and\\n   limitations under the License.'"
      ]
     },
     "execution_count": 45,
     "metadata": {},
     "output_type": "execute_result"
    }
   ],
   "source": [
    "'''Copyright [2022] [Derrick Kemp]\n",
    "\n",
    "   Licensed under the Apache License, Version 2.0 (the \"License\");\n",
    "   you may not use this file except in compliance with the License.\n",
    "   You may obtain a copy of the License at\n",
    "\n",
    "       http://www.apache.org/licenses/LICENSE-2.0\n",
    "\n",
    "   Unless required by applicable law or agreed to in writing, software\n",
    "   distributed under the License is distributed on an \"AS IS\" BASIS,\n",
    "   WITHOUT WARRANTIES OR CONDITIONS OF ANY KIND, either express or implied.\n",
    "   See the License for the specific language governing permissions and\n",
    "   limitations under the License.'''"
   ]
  },
  {
   "cell_type": "code",
   "execution_count": 2,
   "id": "8d014057",
   "metadata": {},
   "outputs": [
    {
     "data": {
      "text/plain": [
       "datetime.datetime(2023, 2, 8, 2, 7, 32, 495771, tzinfo=datetime.timezone.utc)"
      ]
     },
     "execution_count": 2,
     "metadata": {},
     "output_type": "execute_result"
    }
   ],
   "source": [
    "from urllib.parse import quote\n",
    "import datetime\n",
    "from datetime import datetime, timezone\n",
    "'''CMC models update times vary, may take longer to update online. CMC only keeps the latest runs from the last 24 hours for\n",
    "some models. Please refer to the CMC regarding variable names.'''\n",
    "datetime.now(timezone.utc) #yyyy, mm, dd, mm, hh, ss"
   ]
  },
  {
   "cell_type": "code",
   "execution_count": 19,
   "id": "9050a029",
   "metadata": {
    "scrolled": true
   },
   "outputs": [
    {
     "name": "stdout",
     "output_type": "stream",
     "text": [
      "https://dd.weather.gc.ca/model_gem_global/15km/grib2/lat_lon/00/000/CMC_glb_ABSV_ISBL_200_latlon.15x.15_2023020700_P000.grib2\n"
     ]
    }
   ],
   "source": [
    "#CMC: GEM_Global_Model\n",
    "\n",
    "resolution = quote('15km') #Avaliable in 10km and 15km, 10km produces .nc file. 15km produces .grib2 file. 10km not \n",
    "                                #recommended as it only produces analysis of one variable'''\n",
    "    \n",
    "if resolution == quote('15km'): #fill in proper parameter\n",
    "    run_time = quote('00') #Avaliable in 00 and 12\n",
    "    forecast_time = quote('000') #Avaliable in 3 hour incraments from 000 to 240\n",
    "    variable = quote('ABSV_ISBL_200') #Refer to the GEM_Global_Model manual for variable info\n",
    "    date = quote('20230207'+run_time) #yyyymmdd, runtime automatically filled using run_time, all times in UTC\n",
    "    print('https://dd.weather.gc.ca/model_gem_global/'+resolution+'/grib2/lat_lon/'+run_time+'/'+forecast_time+'/CMC_glb_'+variable+'_latlon.15x.15_'+date+'_P'+forecast_time+'.grib2')\n",
    "elif resolution == quote('10km'):\n",
    "    run_time = quote('00') #Avaliable in 00, 06, 12, and 24\n",
    "    date = quote('20230206') #yyyymmdd, runtime automatically filled using run_time\n",
    "    print('https://dd.weather.gc.ca/model_gem_global/10km/'+run_time+'/'+date+'T'+run_time+'Z_MSC_GDPS-Analysis_IICECONC_SFC_RLatLon0.09x0.09_PT000H.nc')"
   ]
  },
  {
   "cell_type": "code",
   "execution_count": 5,
   "id": "e021fb5b",
   "metadata": {},
   "outputs": [
    {
     "data": {
      "text/plain": [
       "'https://dd.weather.gc.ca/model_gdwps/25km/00/20230206T00Z_MSC_GDWPS_ICEC_Sfc_LatLon0.25_PT000H.grib2'"
      ]
     },
     "execution_count": 5,
     "metadata": {},
     "output_type": "execute_result"
    }
   ],
   "source": [
    "#CMC: Global Deterministic Wave Prediction System (GDWPS) | Only avaliable in 25km resolution\n",
    "\n",
    "run_time = quote('00') #Avaliable in 00 and 12\n",
    "date = quote('20230206') #yyyymmdd, all times in UTC\n",
    "forecast_time = quote('000') #Avaliable between 000 and 120, Every hour the first 48 hours, then every three hours after\n",
    "variable = quote('GDWPS_ICEC') #Refer to GDWPS manual for variable details\n",
    "print('https://dd.weather.gc.ca/model_gdwps/25km/'+run_time+'/'+date+'T'+run_time+'Z_MSC_'+variable+'_Sfc_LatLon0.25_PT'+forecast_time+'H.grib2')"
   ]
  },
  {
   "cell_type": "code",
   "execution_count": 10,
   "id": "ee178acc",
   "metadata": {},
   "outputs": [
    {
     "name": "stdout",
     "output_type": "stream",
     "text": [
      "https://dd.weather.gc.ca/ensemble/cansips/grib2/forecast/raw/2023/02/cansips_forecast_raw_latlon2.5x2.5_TMP_TGL_2m_2023-02_allmembers.grib2\n"
     ]
    }
   ],
   "source": [
    "#CMC: Canadian Seasonal to Inter-annual Prediction System (CanSIPS)\n",
    "yyyy = quote('2023') #Select year\n",
    "mm = quote('02') #Select month (Updated the first of every month)\n",
    "area = quote('2.5x2.5') #Select 1.0x1.0 or 2.5x2.5\n",
    "variable = quote('TMP_TGL_2m') #Refer to CMC manual for variable\n",
    "P3M_or_allmembers = quote('allmembers') #Refer to CMC manual\n",
    "print('https://dd.weather.gc.ca/ensemble/cansips/grib2/forecast/raw/'+yyyy+'/'+mm+'/cansips_forecast_raw_latlon'+area+'_'+variable+'_'+yyyy+'-'+mm+'_'+P3M_or_allmembers+'.grib2')"
   ]
  },
  {
   "cell_type": "code",
   "execution_count": 22,
   "id": "f8f33570",
   "metadata": {},
   "outputs": [
    {
     "name": "stdout",
     "output_type": "stream",
     "text": [
      "https://dd.weather.gc.ca/ensemble/geps/grib2/products/00/003/CMC_geps-prob_WIND_TGL_10m_latlon0p5x0p5_2023020700_P003_all-products.grib2\n"
     ]
    }
   ],
   "source": [
    "#CMC: Global Ensemble Prediction System (GEPS)\n",
    "products_or_raw = quote('products')\n",
    "if products_or_raw == quote('raw'):\n",
    "    date = quote ('20230207') #UTC\n",
    "    run_time = quote('00') #avaliable at 00 and 12\n",
    "    forecast_time = quote('000') #avaliable in 3 hour incraments from 000-192. Avaliable in 6 hour incraments from 192-768\n",
    "    variable = quote('HGT_ISBL_0925') #Refer to CMC manual for variable\n",
    "    print('https://dd.weather.gc.ca/ensemble/geps/grib2/raw/'+run_time+'/'+forecast_time+'/CMC_geps-raw_'+variable+'_latlon0p5x0p5_'+date+run_time+'_P'+forecast_time+'_allmbrs.grib2')\n",
    "elif products_or_raw == quote('products'):\n",
    "    date = quote ('20230207') #UTC\n",
    "    run_time = quote('00') #avaliable at 00 and 12\n",
    "    forecast_time = quote('003') #Avaliabe from 003-384 in 3 hour incraments\n",
    "    variable = quote('WIND_TGL_10m') #Refer to CMC manual for variable\n",
    "    print('https://dd.weather.gc.ca/ensemble/geps/grib2/products/'+run_time+'/'+forecast_time+'/CMC_geps-prob_'+variable+'_latlon0p5x0p5_'+date+run_time+'_P'+forecast_time+'_all-products.grib2')"
   ]
  },
  {
   "cell_type": "code",
   "execution_count": 27,
   "id": "f5b45a0a",
   "metadata": {},
   "outputs": [
    {
     "name": "stdout",
     "output_type": "stream",
     "text": [
      "https://dd.weather.gc.ca/ensemble/reps/15km/grib2/raw/00/000/CMC-reps-srpe-raw_HGT_ISBL_0250_ps15km_2023020700_P000_allmbrs.grib2\n"
     ]
    }
   ],
   "source": [
    "#CMC: Regional Ensemble Prediction System (REPS)\n",
    "\n",
    "resolution = quote('15km') #Avaliable in 10km or 15km\n",
    "\n",
    "if resolution == quote('10km'):\n",
    "    \n",
    "    date = quote ('20230207') #UTC\n",
    "    run_time = quote('00') #avaliable at 00, 06, 12, and 18\n",
    "    forecast_time = quote('000') #avaliable in 3 hour incraments from 000-072#avaliable in 3 hour incraments from 000-192. Avaliable in 6 hour incraments from 192-768\n",
    "    variable = quote('HGT_ISBL-0925') #Refer to CMC manual for variable\n",
    "    \n",
    "    print('https://dd.weather.gc.ca/ensemble/reps/10km/grib2/'+run_time+'/'+forecast_time+'/'+date+'T'+run_time+'Z_MSC_REPS_'+variable+'_RLatLon0.09x0.09_PT'+forecast_time+'H.grib2')\n",
    "\n",
    "elif resolution == quote('15km'):\n",
    "    \n",
    "    date = quote ('20230207') #UTC\n",
    "    run_time = quote('00') #avaliable at 00, 06, 12, and 18\n",
    "    forecast_time = quote('000') #avaliable in 3 hour incraments from 000-072\n",
    "    variable = quote('HGT_ISBL_0250') #Refer to CMC manual for variable\n",
    "    \n",
    "    print('https://dd.weather.gc.ca/ensemble/reps/15km/grib2/raw/'+run_time+'/'+forecast_time+'/CMC-reps-srpe-raw_'+variable+'_ps15km_'+date+run_time+'_P'+forecast_time+'_allmbrs.grib2')"
   ]
  },
  {
   "cell_type": "code",
   "execution_count": 33,
   "id": "d7897152",
   "metadata": {},
   "outputs": [
    {
     "name": "stdout",
     "output_type": "stream",
     "text": [
      "https://dd.weather.gc.ca/model_gdsps/15km/00/20230207T00Z_MSC_GDSPS_ETAS_Sfc_LatLon0.144x0.200_PT002H.nc\n"
     ]
    }
   ],
   "source": [
    "#CMC: Global Deterministic Storm Surge Prediction System (GDSPS)\n",
    "\n",
    "date = quote('20230207') #yyyymmdd in UTC\n",
    "run_time = quote ('00') #Avaliable at 00 and 12\n",
    "forecast_time = quote('002') #Avaliavle between 000 and 240 in hourly incraments\n",
    "variable = quote('ETAS') #ETAS_or_SSH\n",
    "print('https://dd.weather.gc.ca/model_gdsps/15km/'+run_time+'/'+date+'T'+run_time+'Z_MSC_GDSPS_'+variable+'_Sfc_LatLon0.144x0.200_PT'+forecast_time+'H.nc')    "
   ]
  },
  {
   "cell_type": "code",
   "execution_count": 43,
   "id": "533b2d2d",
   "metadata": {},
   "outputs": [
    {
     "name": "stdout",
     "output_type": "stream",
     "text": [
      "https://dd.weather.gc.ca/model_gem_regional/coupled/gulf_st-lawrence/grib2/18/002/CMC_coupled-rdps-stlawrence-ocean_latlon0.02x0.03_2023020718_P002.grib2\n"
     ]
    }
   ],
   "source": [
    "#CMC: Global Environmental Multiscale Model (GEM Regional)\n",
    "Coupled = quote('yes') #Enter yes or no\n",
    "\n",
    "if Coupled == quote('no'):\n",
    "    date = quote('20230208') #yyyymmdd in UTC\n",
    "    run_time = quote ('00') #Avaliable at 00, 06, 12, 18\n",
    "    forecast_time = quote('002') #Avaliavle between 000 and 48 in hourly incraments\n",
    "    variable = quote('HGT_ISBL_450') #Refer to CMC manual for variable\n",
    "    print('https://dd.weather.gc.ca/model_gem_regional/10km/grib2/'+run_time+'/'+forecast_time+'/CMC_reg_'+variable+'_ps10km_'+date+run_time+'_P'+forecast_time+'.grib2')\n",
    "elif Coupled == quote('yes'):\n",
    "    date = quote('20230207') #yyyymmdd in UTC\n",
    "    run_time = quote ('18') #Avaliable at 00, 06, 12, 18\n",
    "    forecast_time = quote('002') #Avaliavle between 000 and 48 in hourly incraments\n",
    "    variable = quote('ocean') #ocean or atmosphere\n",
    "    print('https://dd.weather.gc.ca/model_gem_regional/coupled/gulf_st-lawrence/grib2/'+run_time+'/'+forecast_time+'/CMC_coupled-rdps-stlawrence-'+variable+'_latlon0.02x0.03_'+date+run_time+'_P'+forecast_time+'.grib2')"
   ]
  },
  {
   "cell_type": "code",
   "execution_count": null,
   "id": "f36624b0",
   "metadata": {},
   "outputs": [],
   "source": [
    "#https://dd.weather.gc.ca/model_gewps/25km/00/20230206T00Z_MSC_GEWPS_HTSGW_Sfc_LatLon0.25_PT000H.grib2\n",
    "#https://dd.weather.gc.ca/model_gewps/25km/00/20230206T00Z_MSC_GEWPS_HTSGW_Sfc_LatLon0.25_PT057H.grib2"
   ]
  }
 ],
 "metadata": {
  "kernelspec": {
   "display_name": "Python 3 (ipykernel)",
   "language": "python",
   "name": "python3"
  },
  "language_info": {
   "codemirror_mode": {
    "name": "ipython",
    "version": 3
   },
   "file_extension": ".py",
   "mimetype": "text/x-python",
   "name": "python",
   "nbconvert_exporter": "python",
   "pygments_lexer": "ipython3",
   "version": "3.9.13"
  }
 },
 "nbformat": 4,
 "nbformat_minor": 5
}
